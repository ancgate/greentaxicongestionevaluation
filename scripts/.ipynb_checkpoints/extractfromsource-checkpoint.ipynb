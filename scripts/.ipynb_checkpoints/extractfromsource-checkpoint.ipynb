{
 "cells": [
  {
   "cell_type": "code",
   "execution_count": null,
   "id": "035fe2f6-f029-42eb-acc7-1c5ba3ce4f2d",
   "metadata": {},
   "outputs": [],
   "source": [
    "# Download libraries \n",
    "!pip install azure-storage-blob # Microoft Azure"
   ]
  },
  {
   "cell_type": "code",
   "execution_count": null,
   "id": "836aa079-a33e-4979-89d1-dd5483fa9901",
   "metadata": {},
   "outputs": [],
   "source": [
    "# Import libraries "
   ]
  },
  {
   "cell_type": "code",
   "execution_count": null,
   "id": "fe7eeba2-d413-4c2d-a565-cfbb41f85b77",
   "metadata": {},
   "outputs": [],
   "source": [
    "#Extracting from datasource "
   ]
  }
 ],
 "metadata": {
  "kernelspec": {
   "display_name": "Python 3 (ipykernel)",
   "language": "python",
   "name": "python3"
  },
  "language_info": {
   "codemirror_mode": {
    "name": "ipython",
    "version": 3
   },
   "file_extension": ".py",
   "mimetype": "text/x-python",
   "name": "python",
   "nbconvert_exporter": "python",
   "pygments_lexer": "ipython3",
   "version": "3.11.8"
  }
 },
 "nbformat": 4,
 "nbformat_minor": 5
}
